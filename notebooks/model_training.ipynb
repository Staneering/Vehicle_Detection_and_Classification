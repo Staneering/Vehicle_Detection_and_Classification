{
 "cells": [
  {
   "cell_type": "markdown",
   "id": "0e370994-8695-4fc0-964f-745329b69f9f",
   "metadata": {},
   "source": [
    "1.Setup, imports libraries & path"
   ]
  },
  {
   "cell_type": "code",
   "execution_count": 1,
   "id": "aa87ab99-c14c-45fd-b288-dce9da7d9be1",
   "metadata": {},
   "outputs": [],
   "source": [
    "import os, sys\n",
    "project_root = os.path.abspath(os.path.join(os.getcwd(), os.pardir))\n",
    "sys.path.insert(0, project_root)\n",
    "\n",
    "import numpy as np\n",
    "from src.model import train_svm, tune_svm, evaluate_model, cross_validate_model\n",
    "from sklearn.preprocessing import StandardScaler\n",
    "from sklearn.model_selection import train_test_split\n",
    "from sklearn.metrics import accuracy_score, classification_report\n",
    "from sklearn.pipeline import make_pipeline\n",
    "from src.config import HOG_FEATURE_PATH, HOG_LABEL_PATH"
   ]
  },
  {
   "cell_type": "markdown",
   "id": "2d858c88-16c4-420b-a89f-478bbd1a2ad5",
   "metadata": {},
   "source": [
    "2.Load features and labels"
   ]
  },
  {
   "cell_type": "code",
   "execution_count": 2,
   "id": "af739aff-ebce-4c28-b9e4-c1bff0e6eb43",
   "metadata": {},
   "outputs": [],
   "source": [
    "X = np.load(HOG_FEATURE_PATH)\n",
    "y = np.load(HOG_LABEL_PATH)"
   ]
  },
  {
   "cell_type": "markdown",
   "id": "08ba9cf1-2083-4a48-948f-39cf197df479",
   "metadata": {},
   "source": [
    "3.Scale features"
   ]
  },
  {
   "cell_type": "code",
   "execution_count": 3,
   "id": "3378a530-f567-423e-98c4-e1a95198fd98",
   "metadata": {},
   "outputs": [],
   "source": [
    "scaler = StandardScaler()\n",
    "X_scaled = scaler.fit_transform(X)"
   ]
  },
  {
   "cell_type": "markdown",
   "id": "6d74c220-55aa-481c-b7de-c2c6dacc74e2",
   "metadata": {},
   "source": [
    "4.Train-Val-Test Split"
   ]
  },
  {
   "cell_type": "code",
   "execution_count": 4,
   "id": "3d1257f5-9dde-4cdc-a776-3124debbcc82",
   "metadata": {},
   "outputs": [],
   "source": [
    "X_temp, X_test, y_temp, y_test = train_test_split(X_scaled, y, test_size=0.1, stratify=y)\n",
    "X_train, X_val, y_train, y_val = train_test_split(X_temp, y_temp, test_size=2/9, stratify=y_temp)"
   ]
  },
  {
   "cell_type": "markdown",
   "id": "5e75af15-4a8d-4a5a-a31a-e22598e1b4f4",
   "metadata": {},
   "source": [
    "5.Hyperparameter Tuning"
   ]
  },
  {
   "cell_type": "code",
   "execution_count": 6,
   "id": "78435ed0-4ce5-4cb3-b2bf-2180d63d4c43",
   "metadata": {},
   "outputs": [
    {
     "name": "stderr",
     "output_type": "stream",
     "text": [
      "C:\\Users\\Glory\\AppData\\Local\\Programs\\Python\\Python312\\Lib\\site-packages\\sklearn\\svm\\_base.py:1235: ConvergenceWarning: Liblinear failed to converge, increase the number of iterations.\n",
      "  warnings.warn(\n",
      "C:\\Users\\Glory\\AppData\\Local\\Programs\\Python\\Python312\\Lib\\site-packages\\sklearn\\svm\\_base.py:1235: ConvergenceWarning: Liblinear failed to converge, increase the number of iterations.\n",
      "  warnings.warn(\n",
      "C:\\Users\\Glory\\AppData\\Local\\Programs\\Python\\Python312\\Lib\\site-packages\\sklearn\\svm\\_base.py:1235: ConvergenceWarning: Liblinear failed to converge, increase the number of iterations.\n",
      "  warnings.warn(\n",
      "C:\\Users\\Glory\\AppData\\Local\\Programs\\Python\\Python312\\Lib\\site-packages\\sklearn\\svm\\_base.py:1235: ConvergenceWarning: Liblinear failed to converge, increase the number of iterations.\n",
      "  warnings.warn(\n"
     ]
    }
   ],
   "source": [
    "# Tune model\n",
    "best_model = tune_svm(X_train, y_train)"
   ]
  },
  {
   "cell_type": "markdown",
   "id": "bf423853-583c-4a1e-8757-f03fe9d2b97b",
   "metadata": {},
   "source": [
    "6.Model Evaluation"
   ]
  },
  {
   "cell_type": "code",
   "execution_count": 8,
   "id": "6ada9064-aff7-406e-b87d-06f3777dea0e",
   "metadata": {},
   "outputs": [
    {
     "name": "stdout",
     "output_type": "stream",
     "text": [
      "\n",
      "--- Validation ---\n",
      "Accuracy: 0.69\n",
      "Classification Report:\n",
      "               precision    recall  f1-score   support\n",
      "\n",
      "        cars       0.72      0.73      0.73        60\n",
      "  motorcycle       0.67      0.73      0.70        60\n",
      "  nonvehicle       0.66      0.65      0.66        60\n",
      "  threewheel       0.65      0.67      0.66        60\n",
      "      trucks       0.77      0.67      0.71        60\n",
      "\n",
      "    accuracy                           0.69       300\n",
      "   macro avg       0.69      0.69      0.69       300\n",
      "weighted avg       0.69      0.69      0.69       300\n",
      "\n",
      "\n",
      "--- Test ---\n",
      "Accuracy: 0.6733333333333333\n",
      "Classification Report:\n",
      "               precision    recall  f1-score   support\n",
      "\n",
      "        cars       0.63      0.80      0.71        30\n",
      "  motorcycle       0.70      0.63      0.67        30\n",
      "  nonvehicle       0.74      0.77      0.75        30\n",
      "  threewheel       0.59      0.57      0.58        30\n",
      "      trucks       0.72      0.60      0.65        30\n",
      "\n",
      "    accuracy                           0.67       150\n",
      "   macro avg       0.68      0.67      0.67       150\n",
      "weighted avg       0.68      0.67      0.67       150\n",
      "\n"
     ]
    },
    {
     "data": {
      "text/plain": [
       "array([[24,  1,  2,  3,  0],\n",
       "       [ 4, 19,  4,  2,  1],\n",
       "       [ 1,  2, 23,  2,  2],\n",
       "       [ 2,  5,  2, 17,  4],\n",
       "       [ 7,  0,  0,  5, 18]], dtype=int64)"
      ]
     },
     "execution_count": 8,
     "metadata": {},
     "output_type": "execute_result"
    }
   ],
   "source": [
    "# Evaluate model\n",
    "evaluate_model(best_model, X_val, y_val, title=\"Validation\")\n",
    "evaluate_model(best_model, X_test, y_test, title=\"Test\")"
   ]
  },
  {
   "cell_type": "markdown",
   "id": "9bc7903a-20a3-4f83-b5d4-b1df200773d0",
   "metadata": {},
   "source": [
    "7.Cross-Validation"
   ]
  },
  {
   "cell_type": "code",
   "execution_count": 9,
   "id": "80e7ba3c-1690-489a-8c36-f93bc982bc12",
   "metadata": {},
   "outputs": [
    {
     "name": "stdout",
     "output_type": "stream",
     "text": [
      "Cross-validation scores: [0.67026212 0.69410844 0.68970892 0.6739072  0.70271775]\n"
     ]
    }
   ],
   "source": [
    "# Cross-validation\n",
    "cv_scores = cross_validate_model(best_model, X_scaled, y)\n",
    "print(f\"Cross-validation scores: {cv_scores}\")"
   ]
  },
  {
   "cell_type": "code",
   "execution_count": 12,
   "id": "674490a0-5aee-45e7-97b1-654b16b924d4",
   "metadata": {},
   "outputs": [
    {
     "data": {
      "text/plain": [
       "['../model/vehicle_svm_model.pkl']"
      ]
     },
     "execution_count": 12,
     "metadata": {},
     "output_type": "execute_result"
    }
   ],
   "source": [
    "import joblib\n",
    "\n",
    "# Save the trained model\n",
    "joblib.dump(best_model, \"../model/vehicle_svm_model.pkl\")"
   ]
  },
  {
   "cell_type": "code",
   "execution_count": 13,
   "id": "cdd0aeb3-768b-4967-a596-f566b16c1a82",
   "metadata": {},
   "outputs": [
    {
     "data": {
      "text/plain": [
       "['../model/feature_scaler.pkl']"
      ]
     },
     "execution_count": 13,
     "metadata": {},
     "output_type": "execute_result"
    }
   ],
   "source": [
    "# Save the scaler\n",
    "joblib.dump(scaler, \"../model/feature_scaler.pkl\")"
   ]
  },
  {
   "cell_type": "code",
   "execution_count": null,
   "id": "90e5bda7-9ea3-4ccf-ad0b-4487e134dc27",
   "metadata": {},
   "outputs": [],
   "source": []
  }
 ],
 "metadata": {
  "kernelspec": {
   "display_name": "Python 3 (ipykernel)",
   "language": "python",
   "name": "python3"
  },
  "language_info": {
   "codemirror_mode": {
    "name": "ipython",
    "version": 3
   },
   "file_extension": ".py",
   "mimetype": "text/x-python",
   "name": "python",
   "nbconvert_exporter": "python",
   "pygments_lexer": "ipython3",
   "version": "3.12.0"
  }
 },
 "nbformat": 4,
 "nbformat_minor": 5
}
